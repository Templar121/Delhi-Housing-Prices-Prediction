{
 "cells": [
  {
   "cell_type": "code",
   "execution_count": 90,
   "id": "f25e8cf7-5cd4-435c-bf7d-6b857d375f4b",
   "metadata": {},
   "outputs": [],
   "source": [
    "import pandas as pd\n",
    "import numpy as np"
   ]
  },
  {
   "cell_type": "code",
   "execution_count": 91,
   "id": "3bf1a52b-52bf-4ad4-b45f-ff4f6b0a2ee3",
   "metadata": {},
   "outputs": [],
   "source": [
    "data_delhi = pd.read_csv(\"Indian_housing_Delhi_data.csv\")"
   ]
  },
  {
   "cell_type": "code",
   "execution_count": 92,
   "id": "0443634d-3f63-480e-9941-162db1fa1d82",
   "metadata": {},
   "outputs": [
    {
     "data": {
      "text/plain": [
       "<bound method NDFrame.head of                     house_type   house_size            location   city  \\\n",
       "0       1 RK Studio Apartment     400 sq ft             Kalkaji  Delhi   \n",
       "1       1 RK Studio Apartment     400 sq ft   Mansarover Garden  Delhi   \n",
       "2     2 BHK Independent Floor     500 sq ft         Uttam Nagar  Delhi   \n",
       "3     3 BHK Independent House   1,020 sq ft          Model Town  Delhi   \n",
       "4             2 BHK Apartment     810 sq ft    Sector 13 Rohini  Delhi   \n",
       "...                        ...          ...                 ...    ...   \n",
       "4995              4 BHK Villa   5,896 sq ft        Sunder Nagar  Delhi   \n",
       "4996  5 BHK Independent House   6,521 sq ft        Sunder Nagar  Delhi   \n",
       "4997  3 BHK Independent Floor   1,855 sq ft  New Friends Colony  Delhi   \n",
       "4998  3 BHK Independent Floor   2,856 sq ft  New Friends Colony  Delhi   \n",
       "4999  3 BHK Independent Floor   2,856 sq ft  New Friends Colony  Delhi   \n",
       "\n",
       "       latitude  longitude    price currency  numBathrooms  numBalconies  \\\n",
       "0     28.545561  77.254349    22000      INR           1.0           NaN   \n",
       "1     28.643259  77.132828    20000      INR           1.0           NaN   \n",
       "2     28.618677  77.053352     8500      INR           1.0           NaN   \n",
       "3     28.712898  77.180000    48000      INR           3.0           NaN   \n",
       "4     28.723539  77.131424    20000      INR           2.0           NaN   \n",
       "...         ...        ...      ...      ...           ...           ...   \n",
       "4995  28.618437  76.961784  1022001      INR           4.0           2.0   \n",
       "4996  28.618437  76.961784  1549181      INR           4.0           2.0   \n",
       "4997  28.567051  77.273560   301012      INR           3.0           2.0   \n",
       "4998  28.567051  77.273560   301011      INR           3.0           2.0   \n",
       "4999  28.567051  77.273560   301012      INR           4.0           2.0   \n",
       "\n",
       "     isNegotiable  priceSqFt     verificationDate  \\\n",
       "0             NaN        NaN     Posted a day ago   \n",
       "1             NaN        NaN    Posted 9 days ago   \n",
       "2             NaN        NaN   Posted 12 days ago   \n",
       "3             NaN        NaN    Posted a year ago   \n",
       "4             NaN        NaN    Posted a year ago   \n",
       "...           ...        ...                  ...   \n",
       "4995          NaN        NaN  Posted 2 months ago   \n",
       "4996          NaN        NaN  Posted 2 months ago   \n",
       "4997          NaN        NaN  Posted 2 months ago   \n",
       "4998          NaN        NaN  Posted 2 months ago   \n",
       "4999          NaN        NaN  Posted 2 months ago   \n",
       "\n",
       "                                            description SecurityDeposit  \\\n",
       "0     Fully furnished, loaded with amenities & gadge...      No Deposit   \n",
       "1     Here is an excellent 1 BHK Independent Floor a...      No Deposit   \n",
       "2     Zero Brokerage.\\n\\n2 Room set, Govt bijali Met...      No Deposit   \n",
       "3     Itâs a 3 bhk independent house situated in M...      No Deposit   \n",
       "4     Well designed 2 bhk multistorey apartment is a...      No Deposit   \n",
       "...                                                 ...             ...   \n",
       "4995  Its four bhk villa in the super location of De...       40,10,102   \n",
       "4996  A 5 bhk property is available for rent in Sund...       54,01,015   \n",
       "4997  Its three bhk builder floor in the super locat...       18,18,181   \n",
       "4998  Its three bhk builder floor in the super locat...       10,10,110   \n",
       "4999  Its three bhk builder floor in the super locat...       10,10,182   \n",
       "\n",
       "              Status  \n",
       "0          Furnished  \n",
       "1          Furnished  \n",
       "2     Semi-Furnished  \n",
       "3          Furnished  \n",
       "4        Unfurnished  \n",
       "...              ...  \n",
       "4995     Unfurnished  \n",
       "4996     Unfurnished  \n",
       "4997     Unfurnished  \n",
       "4998     Unfurnished  \n",
       "4999     Unfurnished  \n",
       "\n",
       "[5000 rows x 16 columns]>"
      ]
     },
     "execution_count": 92,
     "metadata": {},
     "output_type": "execute_result"
    }
   ],
   "source": [
    "data_delhi.head"
   ]
  },
  {
   "cell_type": "code",
   "execution_count": 93,
   "id": "576eaf74-9639-4e78-a535-85a4a7c41ddb",
   "metadata": {},
   "outputs": [
    {
     "data": {
      "text/plain": [
       "(5000, 16)"
      ]
     },
     "execution_count": 93,
     "metadata": {},
     "output_type": "execute_result"
    }
   ],
   "source": [
    "data_delhi.shape"
   ]
  },
  {
   "cell_type": "code",
   "execution_count": 94,
   "id": "26ca7798-5473-4a2e-b590-26904155deac",
   "metadata": {},
   "outputs": [
    {
     "name": "stdout",
     "output_type": "stream",
     "text": [
      "<class 'pandas.core.frame.DataFrame'>\n",
      "RangeIndex: 5000 entries, 0 to 4999\n",
      "Data columns (total 16 columns):\n",
      " #   Column            Non-Null Count  Dtype  \n",
      "---  ------            --------------  -----  \n",
      " 0   house_type        5000 non-null   object \n",
      " 1   house_size        5000 non-null   object \n",
      " 2   location          5000 non-null   object \n",
      " 3   city              5000 non-null   object \n",
      " 4   latitude          5000 non-null   float64\n",
      " 5   longitude         5000 non-null   float64\n",
      " 6   price             5000 non-null   int64  \n",
      " 7   currency          5000 non-null   object \n",
      " 8   numBathrooms      4975 non-null   float64\n",
      " 9   numBalconies      2737 non-null   float64\n",
      " 10  isNegotiable      179 non-null    object \n",
      " 11  priceSqFt         0 non-null      float64\n",
      " 12  verificationDate  5000 non-null   object \n",
      " 13  description       4715 non-null   object \n",
      " 14  SecurityDeposit   5000 non-null   object \n",
      " 15  Status            5000 non-null   object \n",
      "dtypes: float64(5), int64(1), object(10)\n",
      "memory usage: 625.1+ KB\n"
     ]
    }
   ],
   "source": [
    "data_delhi.info()"
   ]
  },
  {
   "cell_type": "code",
   "execution_count": 95,
   "id": "e43d0c62-716d-495e-83fb-78c4fc1d6a07",
   "metadata": {},
   "outputs": [
    {
     "data": {
      "text/plain": [
       "house_type             0\n",
       "house_size             0\n",
       "location               0\n",
       "city                   0\n",
       "latitude               0\n",
       "longitude              0\n",
       "price                  0\n",
       "currency               0\n",
       "numBathrooms          25\n",
       "numBalconies        2263\n",
       "isNegotiable        4821\n",
       "priceSqFt           5000\n",
       "verificationDate       0\n",
       "description          285\n",
       "SecurityDeposit        0\n",
       "Status                 0\n",
       "dtype: int64"
      ]
     },
     "execution_count": 95,
     "metadata": {},
     "output_type": "execute_result"
    }
   ],
   "source": [
    "data_delhi.isnull().sum()"
   ]
  },
  {
   "cell_type": "code",
   "execution_count": 96,
   "id": "09153c46-bbeb-4406-bfc7-612274a7aa21",
   "metadata": {},
   "outputs": [],
   "source": [
    "data_delhi.drop(['location', 'city','currency','priceSqFt', 'description', 'SecurityDeposit', 'isNegotiable', 'numBalconies'], axis=1, inplace=True)"
   ]
  },
  {
   "cell_type": "code",
   "execution_count": null,
   "id": "141aaab8",
   "metadata": {},
   "outputs": [],
   "source": []
  },
  {
   "cell_type": "code",
   "execution_count": 97,
   "id": "72a8c5c9-c8e0-420c-9953-a0a116a42a45",
   "metadata": {},
   "outputs": [],
   "source": [
    "data_delhi['house_size_SF'] = data_delhi['house_size'].str.split(' ', expand=True)[0]\n",
    "data_delhi['house_size_SF'] = data_delhi['house_size_SF'].str.replace(',', '')"
   ]
  },
  {
   "cell_type": "code",
   "execution_count": 98,
   "id": "df7dedb0",
   "metadata": {},
   "outputs": [
    {
     "data": {
      "text/plain": [
       "array(['1 RK Studio Apartment ', '2 BHK Independent Floor ',\n",
       "       '3 BHK Independent House ', '2 BHK Apartment ', '3 BHK Apartment ',\n",
       "       '3 BHK Independent Floor ', '4 BHK Independent Floor ',\n",
       "       '1 BHK Independent Floor ', '1 BHK Apartment ',\n",
       "       '8 BHK Independent Floor ', '4 BHK Apartment ',\n",
       "       '6 BHK Independent Floor ', '2 BHK Independent House ',\n",
       "       '1 BHK Independent House ', '5 BHK Independent Floor ',\n",
       "       '4 BHK Independent House ', '5 BHK Villa ',\n",
       "       '5 BHK Independent House ', '7 BHK Independent Floor ',\n",
       "       '8 BHK Independent House ', '10 BHK Independent House ',\n",
       "       '7 BHK Independent House ', '9 BHK Independent House ',\n",
       "       '8 BHK Villa ', '4 BHK Villa ', '5 BHK Apartment ',\n",
       "       '6 BHK penthouse ', '12 BHK Independent House '], dtype=object)"
      ]
     },
     "execution_count": 98,
     "metadata": {},
     "output_type": "execute_result"
    }
   ],
   "source": [
    "data_delhi['house_type'].unique()"
   ]
  },
  {
   "cell_type": "code",
   "execution_count": 99,
   "id": "ca2cfb3c",
   "metadata": {},
   "outputs": [],
   "source": [
    "data_delhi['n_beds'] = data_delhi['house_type'].str.split(' ', expand=True)[0]\n",
    "data_delhi['BHK_RK'] = data_delhi['house_type'].str.split(' ', expand=True)[1]\n",
    "data_delhi['building_type'] = data_delhi['house_type'].apply(lambda x: x.split(' ')[2] + x.split(\" \")[3])"
   ]
  },
  {
   "cell_type": "code",
   "execution_count": 100,
   "id": "3f32766c",
   "metadata": {},
   "outputs": [],
   "source": [
    "data_delhi.drop(['house_type', 'house_size', 'latitude', 'longitude', 'verificationDate'], axis=1, inplace=True)"
   ]
  },
  {
   "cell_type": "code",
   "execution_count": 101,
   "id": "d663eb38",
   "metadata": {},
   "outputs": [],
   "source": [
    "data_delhi['numBathrooms'] = data_delhi['numBathrooms'].fillna(data_delhi['n_beds'])"
   ]
  },
  {
   "cell_type": "code",
   "execution_count": 102,
   "id": "c6f3884f-8ff4-4910-9551-3e640bbfc5df",
   "metadata": {},
   "outputs": [
    {
     "data": {
      "text/plain": [
       "price             int64\n",
       "numBathrooms     object\n",
       "Status           object\n",
       "house_size_SF    object\n",
       "n_beds           object\n",
       "BHK_RK           object\n",
       "building_type    object\n",
       "dtype: object"
      ]
     },
     "execution_count": 102,
     "metadata": {},
     "output_type": "execute_result"
    }
   ],
   "source": [
    "data_delhi.dtypes"
   ]
  },
  {
   "cell_type": "code",
   "execution_count": 103,
   "id": "c12774c7-a438-4f99-a2d8-218ed2ffa933",
   "metadata": {},
   "outputs": [],
   "source": [
    "num_cols = ['numBathrooms', 'house_size_SF', 'n_beds']\n",
    "data_delhi[num_cols] = data_delhi[num_cols].astype('int64')"
   ]
  },
  {
   "cell_type": "code",
   "execution_count": 104,
   "id": "4afea587-d52f-45bd-82fa-6c740f9fd815",
   "metadata": {},
   "outputs": [],
   "source": [
    "data_delhi.to_csv(\"final_delhi_dataset.csv\")"
   ]
  },
  {
   "cell_type": "code",
   "execution_count": 105,
   "id": "74995764",
   "metadata": {},
   "outputs": [],
   "source": [
    "cat_cols = data_delhi.select_dtypes(include = 'object').columns.tolist()"
   ]
  },
  {
   "cell_type": "markdown",
   "id": "a9fe8cad",
   "metadata": {},
   "source": [
    "# Random Forest"
   ]
  },
  {
   "cell_type": "code",
   "execution_count": 106,
   "id": "d5fdf102",
   "metadata": {},
   "outputs": [],
   "source": [
    "from sklearn.model_selection import train_test_split\n",
    "from sklearn.ensemble import RandomForestRegressor\n",
    "from sklearn.preprocessing import LabelEncoder\n",
    "from sklearn.metrics import mean_absolute_error, mean_squared_error, r2_score\n",
    "import matplotlib.pyplot as plt\n",
    "import seaborn as sns\n"
   ]
  },
  {
   "cell_type": "code",
   "execution_count": 107,
   "id": "41115ec1",
   "metadata": {},
   "outputs": [],
   "source": [
    "X = data_delhi.copy()\n",
    "y = X.pop('price')"
   ]
  },
  {
   "cell_type": "code",
   "execution_count": 108,
   "id": "18d6b7e7",
   "metadata": {},
   "outputs": [],
   "source": [
    "X_train, X_test, y_train, y_test = train_test_split(X, y, train_size=0.8, random_state=13)"
   ]
  },
  {
   "cell_type": "code",
   "execution_count": 109,
   "id": "f9b69a68",
   "metadata": {},
   "outputs": [],
   "source": [
    "le = LabelEncoder()\n",
    "\n",
    "# for col in cat_cols:\n",
    "    # X_train[col] = le.fit_transform(X_train[col])\n",
    "    # X_test[col] = le.transform(X_test[col])\n",
    "    \n",
    "    \n",
    "le_dict = {}\n",
    "for col in cat_cols:\n",
    "    le = LabelEncoder()\n",
    "    X_train[col] = le.fit_transform(X_train[col])\n",
    "    X_test[col] = le.transform(X_test[col])\n",
    "    le_dict[col] = le"
   ]
  },
  {
   "cell_type": "code",
   "execution_count": 110,
   "id": "699130c7",
   "metadata": {},
   "outputs": [],
   "source": [
    "model = RandomForestRegressor()"
   ]
  },
  {
   "cell_type": "code",
   "execution_count": 111,
   "id": "c3ecd28d",
   "metadata": {},
   "outputs": [],
   "source": [
    "model.fit(X_train, y_train)\n",
    "\n",
    "pred = model.predict(X_test)"
   ]
  },
  {
   "cell_type": "code",
   "execution_count": 112,
   "id": "1355942a-9530-4661-8970-4e4d727a57af",
   "metadata": {},
   "outputs": [
    {
     "name": "stdout",
     "output_type": "stream",
     "text": [
      "Mean absolute error is 73259.32969194981\n",
      "Root mean squared error is 173966.47302980756\n",
      "Mean r squared score is 0.6109626161755637\n"
     ]
    }
   ],
   "source": [
    "mae = mean_absolute_error(y_test, pred)\n",
    "rmse = np.sqrt(mean_squared_error(y_test, pred))\n",
    "r2 = r2_score(y_test, pred)\n",
    "\n",
    "print(f\"Mean absolute error is {mae}\")\n",
    "print(f\"Root mean squared error is {rmse}\")\n",
    "print(f\"Mean r squared score is {r2}\")"
   ]
  },
  {
   "cell_type": "code",
   "execution_count": 113,
   "id": "2540d3b4-9dca-454f-91d5-073d55da2ec5",
   "metadata": {},
   "outputs": [
    {
     "data": {
      "image/png": "[encoded data removed]",
      "text/plain": [
       "<Figure size 600x600 with 1 Axes>"
      ]
     },
     "metadata": {},
     "output_type": "display_data"
    }
   ],
   "source": [
    "plt.figure(figsize=[6,6])\n",
    "\n",
    "sns.regplot(x=pred, y=y_test)\n",
    "\n",
    "plt.xlabel('Predictions')\n",
    "plt.ylabel('Actual')\n",
    "plt.title('Actual Vs Predicted Price')\n",
    "\n",
    "plt.show()"
   ]
  },
  {
   "cell_type": "code",
   "execution_count": 114,
   "id": "d3cd471d",
   "metadata": {},
   "outputs": [
    {
     "name": "stdout",
     "output_type": "stream",
     "text": [
      "RandomForestRegressor()\n"
     ]
    }
   ],
   "source": [
    "print(model)"
   ]
  },
  {
   "cell_type": "code",
   "execution_count": 115,
   "id": "d4aeee72-fcfd-4744-86d2-ae3c966d731a",
   "metadata": {},
   "outputs": [
    {
     "name": "stdout",
     "output_type": "stream",
     "text": [
      "{'Status': LabelEncoder(), 'BHK_RK': LabelEncoder(), 'building_type': LabelEncoder()}\n"
     ]
    }
   ],
   "source": [
    "print(le_dict)"
   ]
  },
  {
   "cell_type": "code",
   "execution_count": 116,
   "id": "30d92c7b",
   "metadata": {},
   "outputs": [],
   "source": [
    "# with open('model.pkl', 'wb') as f:\n",
    "    # pickle.dump(model, f)"
   ]
  },
  {
   "cell_type": "code",
   "execution_count": 117,
   "id": "c02afe67",
   "metadata": {},
   "outputs": [],
   "source": [
    "import joblib"
   ]
  },
  {
   "cell_type": "code",
   "execution_count": 118,
   "id": "58f89cd3",
   "metadata": {},
   "outputs": [],
   "source": [
    "# Save the model\n",
    "joblib.dump(model, 'model.pkl')\n",
    "for col, le in le_dict.items():\n",
    "    col_safe = col.replace(\"/\", \"_\")\n",
    "    joblib.dump(le, f'le_{col_safe}.pkl')"
   ]
  },
  {
   "cell_type": "code",
   "execution_count": 119,
   "id": "db8ab7ed",
   "metadata": {},
   "outputs": [
    {
     "name": "stdout",
     "output_type": "stream",
     "text": [
      "      numBathrooms  Status  house_size_SF  n_beds  BHK_RK  building_type\n",
      "2729             3       2           2856       3       0              1\n",
      "3923             1       1            500       1       0              0\n",
      "320              3       1           1700       3       0              0\n",
      "4078             2       1            930       2       0              0\n",
      "1786             2       1            540       2       0              1\n",
      "...            ...     ...            ...     ...     ...            ...\n",
      "153              2       1            990       3       0              1\n",
      "866              3       1           1440       3       0              1\n",
      "2790             4       2           5896       4       0              1\n",
      "74               3       1           1800       3       0              1\n",
      "338              2       1            800       2       0              1\n",
      "\n",
      "[4000 rows x 6 columns]\n"
     ]
    }
   ],
   "source": [
    "print(X_train)\n"
   ]
  },
  {
   "cell_type": "code",
   "execution_count": null,
   "id": "e11adbbd",
   "metadata": {},
   "outputs": [],
   "source": []
  },
  {
   "cell_type": "code",
   "execution_count": null,
   "id": "ddc4ebf4",
   "metadata": {},
   "outputs": [],
   "source": []
  },
  {
   "cell_type": "code",
   "execution_count": null,
   "id": "d9fdbfbd",
   "metadata": {},
   "outputs": [],
   "source": []
  },
  {
   "cell_type": "code",
   "execution_count": null,
   "id": "a8dd5840",
   "metadata": {},
   "outputs": [],
   "source": []
  },
  {
   "cell_type": "code",
   "execution_count": null,
   "id": "a7d941cc",
   "metadata": {},
   "outputs": [],
   "source": []
  },
  {
   "cell_type": "code",
   "execution_count": null,
   "id": "cf11f120",
   "metadata": {},
   "outputs": [],
   "source": []
  },
  {
   "cell_type": "code",
   "execution_count": null,
   "id": "59345f9d-4728-4c2c-90a0-27d347fb3ece",
   "metadata": {},
   "outputs": [],
   "source": []
  }
 ],
 "metadata": {
  "kernelspec": {
   "display_name": "Python 3 (ipykernel)",
   "language": "python",
   "name": "python3"
  },
  "language_info": {
   "codemirror_mode": {
    "name": "ipython",
    "version": 3
   },
   "file_extension": ".py",
   "mimetype": "text/x-python",
   "name": "python",
   "nbconvert_exporter": "python",
   "pygments_lexer": "ipython3",
   "version": "3.11.7"
  }
 },
 "nbformat": 4,
 "nbformat_minor": 5
}
